{
 "cells": [
  {
   "cell_type": "code",
   "execution_count": 2,
   "metadata": {},
   "outputs": [
    {
     "data": {
      "text/html": [
       "<div>\n",
       "<style scoped>\n",
       "    .dataframe tbody tr th:only-of-type {\n",
       "        vertical-align: middle;\n",
       "    }\n",
       "\n",
       "    .dataframe tbody tr th {\n",
       "        vertical-align: top;\n",
       "    }\n",
       "\n",
       "    .dataframe thead th {\n",
       "        text-align: right;\n",
       "    }\n",
       "</style>\n",
       "<table border=\"1\" class=\"dataframe\">\n",
       "  <thead>\n",
       "    <tr style=\"text-align: right;\">\n",
       "      <th></th>\n",
       "      <th>Month</th>\n",
       "      <th>Date</th>\n",
       "      <th>Task</th>\n",
       "      <th>Start</th>\n",
       "      <th>End</th>\n",
       "      <th>Duration (hh:mm)</th>\n",
       "    </tr>\n",
       "  </thead>\n",
       "  <tbody>\n",
       "    <tr>\n",
       "      <th>0</th>\n",
       "      <td>January</td>\n",
       "      <td>2024-01-18</td>\n",
       "      <td>FCC - form</td>\n",
       "      <td>09:40:00</td>\n",
       "      <td>12:00:00</td>\n",
       "      <td>02:20:00</td>\n",
       "    </tr>\n",
       "    <tr>\n",
       "      <th>1</th>\n",
       "      <td>January</td>\n",
       "      <td>2024-01-18</td>\n",
       "      <td>FCC - form</td>\n",
       "      <td>13:40:00</td>\n",
       "      <td>15:05:00</td>\n",
       "      <td>01:25:00</td>\n",
       "    </tr>\n",
       "    <tr>\n",
       "      <th>2</th>\n",
       "      <td>January</td>\n",
       "      <td>2024-01-18</td>\n",
       "      <td>Reading - The Odin Project</td>\n",
       "      <td>15:15:00</td>\n",
       "      <td>16:15:00</td>\n",
       "      <td>01:00:00</td>\n",
       "    </tr>\n",
       "    <tr>\n",
       "      <th>3</th>\n",
       "      <td>January</td>\n",
       "      <td>2024-01-18</td>\n",
       "      <td>FCC - Project (stuck)</td>\n",
       "      <td>19:20:00</td>\n",
       "      <td>19:50:00</td>\n",
       "      <td>00:30:00</td>\n",
       "    </tr>\n",
       "    <tr>\n",
       "      <th>4</th>\n",
       "      <td>January</td>\n",
       "      <td>2024-01-18</td>\n",
       "      <td>Youtube tutorial</td>\n",
       "      <td>19:55:00</td>\n",
       "      <td>20:20:00</td>\n",
       "      <td>00:25:00</td>\n",
       "    </tr>\n",
       "  </tbody>\n",
       "</table>\n",
       "</div>"
      ],
      "text/plain": [
       "     Month       Date                        Task     Start       End  \\\n",
       "0  January 2024-01-18                  FCC - form  09:40:00  12:00:00   \n",
       "1  January 2024-01-18                  FCC - form  13:40:00  15:05:00   \n",
       "2  January 2024-01-18  Reading - The Odin Project  15:15:00  16:15:00   \n",
       "3  January 2024-01-18       FCC - Project (stuck)  19:20:00  19:50:00   \n",
       "4  January 2024-01-18            Youtube tutorial  19:55:00  20:20:00   \n",
       "\n",
       "  Duration (hh:mm)  \n",
       "0         02:20:00  \n",
       "1         01:25:00  \n",
       "2         01:00:00  \n",
       "3         00:30:00  \n",
       "4         00:25:00  "
      ]
     },
     "execution_count": 2,
     "metadata": {},
     "output_type": "execute_result"
    }
   ],
   "source": [
    "import pandas as pd\n",
    "\n",
    "duration_df = pd.read_excel('./Study tracker - JS.xlsx')\n",
    "\n",
    "duration_df.head()"
   ]
  },
  {
   "cell_type": "code",
   "execution_count": 3,
   "metadata": {},
   "outputs": [
    {
     "data": {
      "text/plain": [
       "Index(['Month', 'Date', 'Task', 'Start', 'End', 'Duration (hh:mm)'], dtype='object')"
      ]
     },
     "execution_count": 3,
     "metadata": {},
     "output_type": "execute_result"
    }
   ],
   "source": [
    "duration_df.columns"
   ]
  },
  {
   "cell_type": "code",
   "execution_count": 4,
   "metadata": {},
   "outputs": [
    {
     "name": "stdout",
     "output_type": "stream",
     "text": [
      "       Month       Date                          Task     Start       End  \\\n",
      "0    January 2024-01-18                    FCC - form  09:40:00  12:00:00   \n",
      "1    January 2024-01-18                    FCC - form  13:40:00  15:05:00   \n",
      "2    January 2024-01-18    Reading - The Odin Project  15:15:00  16:15:00   \n",
      "3    January 2024-01-18         FCC - Project (stuck)  19:20:00  19:50:00   \n",
      "4    January 2024-01-18              Youtube tutorial  19:55:00  20:20:00   \n",
      "..       ...        ...                           ...       ...       ...   \n",
      "548     June 2024-06-21              Python - reading  03:05:00  03:25:00   \n",
      "549     June 2024-06-21             Portfolio - No. 2  03:30:00  03:45:00   \n",
      "550     June 2024-06-21  Potfolio - add functionality  03:55:00  06:35:00   \n",
      "551     June 2024-06-21            Update error - idk  09:10:00  10:05:00   \n",
      "552     June 2024-06-22                  Update error  06:25:00  08:45:00   \n",
      "\n",
      "    Duration (hh:mm)  Duration_minutes  \n",
      "0    0 days 02:20:00             140.0  \n",
      "1    0 days 01:25:00              85.0  \n",
      "2    0 days 01:00:00              60.0  \n",
      "3    0 days 00:30:00              30.0  \n",
      "4    0 days 00:25:00              25.0  \n",
      "..               ...               ...  \n",
      "548  0 days 00:20:00              20.0  \n",
      "549  0 days 00:15:00              15.0  \n",
      "550  0 days 02:40:00             160.0  \n",
      "551  0 days 00:55:00              55.0  \n",
      "552  0 days 02:20:00             140.0  \n",
      "\n",
      "[552 rows x 7 columns]\n"
     ]
    }
   ],
   "source": [
    "# Step 1: Convert all values to strings and handle any unusual formats\n",
    "duration_df['Duration (hh:mm)'] = duration_df['Duration (hh:mm)'].astype(str)\n",
    "\n",
    "# Step 2: Remove any rows with multiple negative signs, unexpected characters, or incorrect formats\n",
    "# Here we filter for only valid time formats: e.g., \"HH:MM:SS\" or \"HH:MM\"\n",
    "import re\n",
    "valid_time_pattern = re.compile(r'^(?:-)?\\d{1,2}:\\d{2}(?::\\d{2})?$')  # Matches \"HH:MM\" or \"HH:MM:SS\" formats\n",
    "duration_df = duration_df[duration_df['Duration (hh:mm)'].apply(lambda x: bool(valid_time_pattern.match(x)))]\n",
    "\n",
    "# Step 3: Convert valid time strings to timedelta\n",
    "duration_df['Duration (hh:mm)'] = pd.to_timedelta(duration_df['Duration (hh:mm)'], errors='coerce')\n",
    "\n",
    "# Step 4: Convert timedelta to total minutes\n",
    "duration_df['Duration_minutes'] = duration_df['Duration (hh:mm)'].dt.total_seconds() / 60\n",
    "\n",
    "print(duration_df)\n"
   ]
  },
  {
   "cell_type": "code",
   "execution_count": 5,
   "metadata": {},
   "outputs": [
    {
     "data": {
      "text/plain": [
       "Index(['Month', 'Date', 'Task', 'Start', 'End', 'Duration (hh:mm)',\n",
       "       'Duration_minutes'],\n",
       "      dtype='object')"
      ]
     },
     "execution_count": 5,
     "metadata": {},
     "output_type": "execute_result"
    }
   ],
   "source": [
    "duration_df.columns"
   ]
  },
  {
   "cell_type": "code",
   "execution_count": 6,
   "metadata": {},
   "outputs": [
    {
     "name": "stdout",
     "output_type": "stream",
     "text": [
      "           Date                          Task     Start       End  \\\n",
      "0    2024-01-18                    FCC - form  09:40:00  12:00:00   \n",
      "1    2024-01-18                    FCC - form  13:40:00  15:05:00   \n",
      "2    2024-01-18    Reading - The Odin Project  15:15:00  16:15:00   \n",
      "3    2024-01-18         FCC - Project (stuck)  19:20:00  19:50:00   \n",
      "4    2024-01-18              Youtube tutorial  19:55:00  20:20:00   \n",
      "..          ...                           ...       ...       ...   \n",
      "548  2024-06-21              Python - reading  03:05:00  03:25:00   \n",
      "549  2024-06-21             Portfolio - No. 2  03:30:00  03:45:00   \n",
      "550  2024-06-21  Potfolio - add functionality  03:55:00  06:35:00   \n",
      "551  2024-06-21            Update error - idk  09:10:00  10:05:00   \n",
      "552  2024-06-22                  Update error  06:25:00  08:45:00   \n",
      "\n",
      "     Duration_minutes  \n",
      "0               140.0  \n",
      "1                85.0  \n",
      "2                60.0  \n",
      "3                30.0  \n",
      "4                25.0  \n",
      "..                ...  \n",
      "548              20.0  \n",
      "549              15.0  \n",
      "550             160.0  \n",
      "551              55.0  \n",
      "552             140.0  \n",
      "\n",
      "[552 rows x 5 columns]\n"
     ]
    }
   ],
   "source": [
    "duration_df['Date'] = pd.to_datetime(duration_df['Date'], unit='ms').dt.strftime('%Y-%m-%d')\n",
    "\n",
    "duration_2 = duration_df.drop(columns=['Month', 'Duration (hh:mm)'])\n",
    "\n",
    "# duration_2.to_json('tracker.json', orient='records', lines=False)\n",
    "\n",
    "print(duration_2)"
   ]
  },
  {
   "cell_type": "code",
   "execution_count": 7,
   "metadata": {},
   "outputs": [
    {
     "data": {
      "text/plain": [
       "Index(['Date', 'Task', 'Start', 'End', 'Duration_minutes'], dtype='object')"
      ]
     },
     "execution_count": 7,
     "metadata": {},
     "output_type": "execute_result"
    }
   ],
   "source": [
    "duration_2.columns"
   ]
  },
  {
   "cell_type": "markdown",
   "metadata": {},
   "source": [
    "**EXPORT JSON FROM PANDAS - UPLOAD TO SUPABASE**\n",
    "- pip install supabase"
   ]
  },
  {
   "cell_type": "code",
   "execution_count": 14,
   "metadata": {},
   "outputs": [],
   "source": [
    "import json \n",
    "import os \n",
    "from supabase import create_client, Client\n",
    "from dotenv import load_dotenv\n",
    "\n",
    "load_dotenv()\n",
    "\n",
    "supabase_url = os.getenv(\"SUPABASE_URL\")\n",
    "supabase_key = os.getenv(\"SUPABASE_KEY\")\n",
    "\n",
    "#initialize supabase client\n",
    "supabase: Client = create_client(supabase_url, supabase_key)\n",
    "\n",
    "#load json data\n",
    "with open(\"tracker.json\", \"r\") as file:\n",
    "    data = json.load(file)\n",
    "    \n",
    "#convert duraiton to integers\n",
    "for record in data:\n",
    "    record['Duration_minutes'] = round(record['Duration_minutes'])\n",
    "    \n",
    "#insert data into supabase table\n",
    "# for record in data:\n",
    "#     response = supabase.table(\"tracker\").insert(record).execute()\n",
    "#     print(response)\n"
   ]
  },
  {
   "cell_type": "code",
   "execution_count": null,
   "metadata": {},
   "outputs": [],
   "source": []
  }
 ],
 "metadata": {
  "kernelspec": {
   "display_name": "Python (Anaconda)",
   "language": "python",
   "name": "anaconda"
  },
  "language_info": {
   "codemirror_mode": {
    "name": "ipython",
    "version": 3
   },
   "file_extension": ".py",
   "mimetype": "text/x-python",
   "name": "python",
   "nbconvert_exporter": "python",
   "pygments_lexer": "ipython3",
   "version": "3.12.3"
  }
 },
 "nbformat": 4,
 "nbformat_minor": 2
}
